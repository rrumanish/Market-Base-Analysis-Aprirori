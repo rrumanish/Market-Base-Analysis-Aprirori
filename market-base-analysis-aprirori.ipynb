{
 "cells": [
  {
   "cell_type": "code",
   "execution_count": 1,
   "id": "f947a4e3",
   "metadata": {
    "_cell_guid": "b1076dfc-b9ad-4769-8c92-a6c4dae69d19",
    "_uuid": "8f2839f25d086af736a60e9eeb907d3b93b6e0e5",
    "execution": {
     "iopub.execute_input": "2023-08-07T15:20:45.616383Z",
     "iopub.status.busy": "2023-08-07T15:20:45.616006Z",
     "iopub.status.idle": "2023-08-07T15:20:47.198325Z",
     "shell.execute_reply": "2023-08-07T15:20:47.197046Z"
    },
    "papermill": {
     "duration": 1.592999,
     "end_time": "2023-08-07T15:20:47.201414",
     "exception": false,
     "start_time": "2023-08-07T15:20:45.608415",
     "status": "completed"
    },
    "tags": []
   },
   "outputs": [
    {
     "name": "stderr",
     "output_type": "stream",
     "text": [
      "/opt/conda/lib/python3.10/site-packages/scipy/__init__.py:146: UserWarning: A NumPy version >=1.16.5 and <1.23.0 is required for this version of SciPy (detected version 1.23.5\n",
      "  warnings.warn(f\"A NumPy version >={np_minversion} and <{np_maxversion}\"\n"
     ]
    }
   ],
   "source": [
    "import pandas as pd    #Data Cleaning\n",
    "import numpy as np     #Array Calculation \n",
    "import matplotlib.pyplot as plt # Visualization\n",
    "import seaborn as sns  #Advance analytical Visualization\n"
   ]
  },
  {
   "cell_type": "code",
   "execution_count": 2,
   "id": "8b61fa55",
   "metadata": {
    "execution": {
     "iopub.execute_input": "2023-08-07T15:20:47.214379Z",
     "iopub.status.busy": "2023-08-07T15:20:47.213953Z",
     "iopub.status.idle": "2023-08-07T15:20:47.604882Z",
     "shell.execute_reply": "2023-08-07T15:20:47.603012Z"
    },
    "papermill": {
     "duration": 0.400512,
     "end_time": "2023-08-07T15:20:47.607843",
     "exception": true,
     "start_time": "2023-08-07T15:20:47.207331",
     "status": "failed"
    },
    "tags": []
   },
   "outputs": [
    {
     "ename": "ModuleNotFoundError",
     "evalue": "No module named 'apyori'",
     "output_type": "error",
     "traceback": [
      "\u001b[0;31m---------------------------------------------------------------------------\u001b[0m",
      "\u001b[0;31mModuleNotFoundError\u001b[0m                       Traceback (most recent call last)",
      "Cell \u001b[0;32mIn[2], line 1\u001b[0m\n\u001b[0;32m----> 1\u001b[0m \u001b[38;5;28;01mfrom\u001b[39;00m \u001b[38;5;21;01mapyori\u001b[39;00m \u001b[38;5;28;01mimport\u001b[39;00m apriori\n",
      "\u001b[0;31mModuleNotFoundError\u001b[0m: No module named 'apyori'"
     ]
    }
   ],
   "source": [
    "from apyori import apriori"
   ]
  },
  {
   "cell_type": "code",
   "execution_count": null,
   "id": "8b7a3ac4",
   "metadata": {
    "execution": {
     "iopub.execute_input": "2023-08-07T15:15:15.732694Z",
     "iopub.status.busy": "2023-08-07T15:15:15.732173Z",
     "iopub.status.idle": "2023-08-07T15:15:15.775630Z",
     "shell.execute_reply": "2023-08-07T15:15:15.774139Z",
     "shell.execute_reply.started": "2023-08-07T15:15:15.732665Z"
    },
    "papermill": {
     "duration": null,
     "end_time": null,
     "exception": null,
     "start_time": null,
     "status": "pending"
    },
    "tags": []
   },
   "outputs": [],
   "source": [
    "df = pd.read_csv('/kaggle/input/market-base-apori/Market_Basket_Optimisation.csv',header=None)"
   ]
  },
  {
   "cell_type": "code",
   "execution_count": null,
   "id": "50d6a34b",
   "metadata": {
    "execution": {
     "iopub.execute_input": "2023-08-07T15:14:12.288405Z",
     "iopub.status.busy": "2023-08-07T15:14:12.288018Z",
     "iopub.status.idle": "2023-08-07T15:14:24.223646Z",
     "shell.execute_reply": "2023-08-07T15:14:24.222618Z",
     "shell.execute_reply.started": "2023-08-07T15:14:12.288359Z"
    },
    "papermill": {
     "duration": null,
     "end_time": null,
     "exception": null,
     "start_time": null,
     "status": "pending"
    },
    "tags": []
   },
   "outputs": [],
   "source": [
    "pip install apyori"
   ]
  },
  {
   "cell_type": "code",
   "execution_count": null,
   "id": "53a7b83d",
   "metadata": {
    "execution": {
     "iopub.execute_input": "2023-08-07T15:15:23.273021Z",
     "iopub.status.busy": "2023-08-07T15:15:23.272657Z",
     "iopub.status.idle": "2023-08-07T15:15:23.302855Z",
     "shell.execute_reply": "2023-08-07T15:15:23.302024Z",
     "shell.execute_reply.started": "2023-08-07T15:15:23.272994Z"
    },
    "papermill": {
     "duration": null,
     "end_time": null,
     "exception": null,
     "start_time": null,
     "status": "pending"
    },
    "tags": []
   },
   "outputs": [],
   "source": [
    "df.head()"
   ]
  },
  {
   "cell_type": "code",
   "execution_count": null,
   "id": "75275f37",
   "metadata": {
    "execution": {
     "iopub.execute_input": "2023-08-07T15:16:34.412232Z",
     "iopub.status.busy": "2023-08-07T15:16:34.411893Z",
     "iopub.status.idle": "2023-08-07T15:16:35.027324Z",
     "shell.execute_reply": "2023-08-07T15:16:35.026584Z",
     "shell.execute_reply.started": "2023-08-07T15:16:34.412205Z"
    },
    "papermill": {
     "duration": null,
     "end_time": null,
     "exception": null,
     "start_time": null,
     "status": "pending"
    },
    "tags": []
   },
   "outputs": [],
   "source": [
    "# For using Aprori , need to convert data in list format\n",
    "transactions=[] #List\n",
    "for i in range(0,7501): #Range define \n",
    "    transactions.append([str(df.values[i,j]) \n",
    "                         for j in range(0,20)])"
   ]
  },
  {
   "cell_type": "code",
   "execution_count": null,
   "id": "eeab4e15",
   "metadata": {
    "execution": {
     "iopub.execute_input": "2023-08-07T15:16:47.555544Z",
     "iopub.status.busy": "2023-08-07T15:16:47.555191Z",
     "iopub.status.idle": "2023-08-07T15:16:47.560502Z",
     "shell.execute_reply": "2023-08-07T15:16:47.559551Z",
     "shell.execute_reply.started": "2023-08-07T15:16:47.555518Z"
    },
    "papermill": {
     "duration": null,
     "end_time": null,
     "exception": null,
     "start_time": null,
     "status": "pending"
    },
    "tags": []
   },
   "outputs": [],
   "source": [
    "# Training the Apriori model on the dataset\n",
    "Apriori_Rules= apriori(transactions=transactions,\n",
    "                      min_support=0.003,\n",
    "                      min_confidence=0.2,\n",
    "                      min_lift=3,\n",
    "                      min_length=2,\n",
    "                      max_length=2)"
   ]
  },
  {
   "cell_type": "code",
   "execution_count": null,
   "id": "a52cf1e1",
   "metadata": {
    "execution": {
     "iopub.execute_input": "2023-08-07T15:18:04.057590Z",
     "iopub.status.busy": "2023-08-07T15:18:04.057240Z",
     "iopub.status.idle": "2023-08-07T15:18:04.149333Z",
     "shell.execute_reply": "2023-08-07T15:18:04.148398Z",
     "shell.execute_reply.started": "2023-08-07T15:18:04.057565Z"
    },
    "papermill": {
     "duration": null,
     "end_time": null,
     "exception": null,
     "start_time": null,
     "status": "pending"
    },
    "tags": []
   },
   "outputs": [],
   "source": [
    "Results=list(Apriori_Rules)"
   ]
  },
  {
   "cell_type": "code",
   "execution_count": null,
   "id": "2d93aa8a",
   "metadata": {
    "execution": {
     "iopub.execute_input": "2023-08-07T15:18:15.762862Z",
     "iopub.status.busy": "2023-08-07T15:18:15.762534Z",
     "iopub.status.idle": "2023-08-07T15:18:15.769340Z",
     "shell.execute_reply": "2023-08-07T15:18:15.768328Z",
     "shell.execute_reply.started": "2023-08-07T15:18:15.762836Z"
    },
    "papermill": {
     "duration": null,
     "end_time": null,
     "exception": null,
     "start_time": null,
     "status": "pending"
    },
    "tags": []
   },
   "outputs": [],
   "source": [
    "Results"
   ]
  },
  {
   "cell_type": "code",
   "execution_count": null,
   "id": "896c302b",
   "metadata": {
    "execution": {
     "iopub.execute_input": "2023-08-07T15:18:39.763410Z",
     "iopub.status.busy": "2023-08-07T15:18:39.763079Z",
     "iopub.status.idle": "2023-08-07T15:18:39.771464Z",
     "shell.execute_reply": "2023-08-07T15:18:39.770075Z",
     "shell.execute_reply.started": "2023-08-07T15:18:39.763384Z"
    },
    "papermill": {
     "duration": null,
     "end_time": null,
     "exception": null,
     "start_time": null,
     "status": "pending"
    },
    "tags": []
   },
   "outputs": [],
   "source": [
    "# Putting the Results in a well organised way using Padas Datafrmae\n",
    "def inspect(Results):\n",
    "    lhs=[tuple(result[2][0][0])[0] for result in Results]\n",
    "    rhs=[tuple(result[2][0][1])[0] for result in Results]\n",
    "    support=[result[1] for result in Results]\n",
    "    confidences=[result[2][0][2] for result in Results]\n",
    "    lifts= [result[2][0][3] for result in Results]\n",
    "    return list(zip(lhs,rhs,support,confidences,lifts))\n",
    "dataframe_final=pd.DataFrame(inspect(Results),columns=['Left Hand Side','Right Hand Side','Support','Confidence',\n",
    "                                                    'Lift'])"
   ]
  },
  {
   "cell_type": "code",
   "execution_count": null,
   "id": "d24c9aaf",
   "metadata": {
    "execution": {
     "iopub.execute_input": "2023-08-07T15:19:13.537490Z",
     "iopub.status.busy": "2023-08-07T15:19:13.537139Z",
     "iopub.status.idle": "2023-08-07T15:19:13.550226Z",
     "shell.execute_reply": "2023-08-07T15:19:13.549559Z",
     "shell.execute_reply.started": "2023-08-07T15:19:13.537461Z"
    },
    "papermill": {
     "duration": null,
     "end_time": null,
     "exception": null,
     "start_time": null,
     "status": "pending"
    },
    "tags": []
   },
   "outputs": [],
   "source": [
    "dataframe_final.head()"
   ]
  },
  {
   "cell_type": "code",
   "execution_count": null,
   "id": "a1ca2062",
   "metadata": {
    "execution": {
     "iopub.execute_input": "2023-08-07T15:19:32.992456Z",
     "iopub.status.busy": "2023-08-07T15:19:32.992125Z",
     "iopub.status.idle": "2023-08-07T15:19:33.011019Z",
     "shell.execute_reply": "2023-08-07T15:19:33.009633Z",
     "shell.execute_reply.started": "2023-08-07T15:19:32.992431Z"
    },
    "papermill": {
     "duration": null,
     "end_time": null,
     "exception": null,
     "start_time": null,
     "status": "pending"
    },
    "tags": []
   },
   "outputs": [],
   "source": [
    "dataframe_final.nlargest(n=10,columns='Lift')"
   ]
  },
  {
   "cell_type": "code",
   "execution_count": null,
   "id": "0c488d52",
   "metadata": {
    "papermill": {
     "duration": null,
     "end_time": null,
     "exception": null,
     "start_time": null,
     "status": "pending"
    },
    "tags": []
   },
   "outputs": [],
   "source": []
  }
 ],
 "metadata": {
  "kernelspec": {
   "display_name": "Python 3",
   "language": "python",
   "name": "python3"
  },
  "language_info": {
   "codemirror_mode": {
    "name": "ipython",
    "version": 3
   },
   "file_extension": ".py",
   "mimetype": "text/x-python",
   "name": "python",
   "nbconvert_exporter": "python",
   "pygments_lexer": "ipython3",
   "version": "3.10.12"
  },
  "papermill": {
   "default_parameters": {},
   "duration": 15.283683,
   "end_time": "2023-08-07T15:20:48.635906",
   "environment_variables": {},
   "exception": true,
   "input_path": "__notebook__.ipynb",
   "output_path": "__notebook__.ipynb",
   "parameters": {},
   "start_time": "2023-08-07T15:20:33.352223",
   "version": "2.4.0"
  }
 },
 "nbformat": 4,
 "nbformat_minor": 5
}
